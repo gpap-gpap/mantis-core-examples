{
 "cells": [
  {
   "cell_type": "code",
   "execution_count": 11,
   "metadata": {},
   "outputs": [
    {
     "name": "stdout",
     "output_type": "stream",
     "text": [
      "The autoreload extension is already loaded. To reload it, use:\n",
      "  %reload_ext autoreload\n"
     ]
    }
   ],
   "source": [
    "%load_ext autoreload\n",
    "%autoreload 2"
   ]
  },
  {
   "cell_type": "code",
   "execution_count": 18,
   "metadata": {},
   "outputs": [],
   "source": [
    "import mantis_wave_modelling.finite_difference.parameter_handling as manFD"
   ]
  },
  {
   "cell_type": "code",
   "execution_count": 19,
   "metadata": {},
   "outputs": [
    {
     "name": "stdout",
     "output_type": "stream",
     "text": [
      "<module 'segyio.tools' from '/Users/gpapageo/opt/anaconda3/envs/mantis-core-examples/lib/python3.11/site-packages/segyio/tools.py'>\n"
     ]
    },
    {
     "data": {
      "text/plain": [
       "<mantis_wave_modelling.finite_difference.parameter_handling.write_segy at 0x130685210>"
      ]
     },
     "execution_count": 19,
     "metadata": {},
     "output_type": "execute_result"
    }
   ],
   "source": [
    "manFD.write_segy(filename = \"text\")"
   ]
  },
  {
   "cell_type": "code",
   "execution_count": 27,
   "metadata": {},
   "outputs": [
    {
     "name": "stdout",
     "output_type": "stream",
     "text": [
      "Valid JSON\n"
     ]
    }
   ],
   "source": [
    "d = manFD.JsonParameterFile(filename= \"./wave_modelling_backend/parameters.json\")\n",
    "d.validate_data()"
   ]
  },
  {
   "cell_type": "code",
   "execution_count": 31,
   "metadata": {},
   "outputs": [],
   "source": [
    "import numpy as np\n",
    "import csv\n",
    "d = {}\n",
    "with open(\"./wave_modelling_backend/input.csv\", newline='') as f:\n",
    "    reader = csv.reader(f)\n",
    "    headers = [\"Top Depth\", \"Vp\", \"Vs\", \"Rho\"]\n",
    "    next(reader)\n",
    "    for j, row in enumerate(reader):\n",
    "        d[j] = {}\n",
    "        for i, h in enumerate(row):\n",
    "            d[j][headers[i]] = float(h)\n",
    "models = {\n",
    "    index: {\"model\": \"generic\", \"parameters\": {}}\n",
    "    for index, _ in enumerate(d.keys())\n",
    "}"
   ]
  },
  {
   "cell_type": "code",
   "execution_count": 36,
   "metadata": {},
   "outputs": [],
   "source": [
    "grids = manFD.FiniteDifferenceGridFromRockPhysicsModels(well_input=d,  mod_dictionary=models, label=\"test\")"
   ]
  },
  {
   "cell_type": "code",
   "execution_count": null,
   "metadata": {},
   "outputs": [],
   "source": [
    "    with segyio.open(file, ignore_geometry=True) as f:\n",
    "        # Get basic attributes\n",
    "        n_traces = f.tracecount\n",
    "        sample_rate = segyio.tools.dt(f) / 1000\n",
    "        n_samples = f.samples.size\n",
    "        twt = f.samples\n",
    "        data = f.trace.raw[:]"
   ]
  },
  {
   "cell_type": "code",
   "execution_count": null,
   "metadata": {},
   "outputs": [],
   "source": [
    "with segyio.open(temp_in, ignore_geometry=True) as src:\n",
    "    spec = segyio.tools.metadata(src)\n",
    "    spec.tracecount = len(indices)\n",
    "    with segyio.create(temp_out, spec) as dst:\n",
    "        for i in range(1 + src.ext_headers):\n",
    "            dst.text[i] = src.text[i]\n",
    "        dst.bin = src.bin\n",
    "        dst.header = src.header"
   ]
  },
  {
   "cell_type": "markdown",
   "metadata": {},
   "source": [
    "to do:\n",
    " - improve model scanning and error reporting\n",
    " - incorporate the parameter json as part of the grid making\n",
    " - enhance the calling function in the back end\n",
    " - fit viscoelastic and anisotropic models so that the generated grids are more accurate (easiest way to patch at this early stage is to use the thomsenVTI and tilt rotation classes).\n",
    " - improve the reporting on the file that does the export in the original code\n",
    " - create plot methods for the models/grids\n",
    " - create a method for saving the outputs to segy\n",
    " - create a method for getting the snapshots into a video files\n",
    " - write the examples and docstrings"
   ]
  },
  {
   "cell_type": "markdown",
   "metadata": {},
   "source": []
  }
 ],
 "metadata": {
  "kernelspec": {
   "display_name": "mantis-core-examples",
   "language": "python",
   "name": "python3"
  },
  "language_info": {
   "codemirror_mode": {
    "name": "ipython",
    "version": 3
   },
   "file_extension": ".py",
   "mimetype": "text/x-python",
   "name": "python",
   "nbconvert_exporter": "python",
   "pygments_lexer": "ipython3",
   "version": "3.11.7"
  }
 },
 "nbformat": 4,
 "nbformat_minor": 2
}
