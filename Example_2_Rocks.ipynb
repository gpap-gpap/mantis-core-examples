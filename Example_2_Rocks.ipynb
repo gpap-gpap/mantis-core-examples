{
 "cells": [
  {
   "cell_type": "code",
   "execution_count": 1,
   "metadata": {},
   "outputs": [],
   "source": [
    "%load_ext autoreload\n",
    "%autoreload 2\n",
    "import numpy as np\n",
    "import mantis_core.rock_physics as manRP\n",
    "import mantis_core.rock_physics.fluid as manFL\n",
    "from mantis_core.rock_physics.fluid_presets import presets as manPResets\n",
    "import numpy as np"
   ]
  },
  {
   "cell_type": "code",
   "execution_count": 45,
   "metadata": {},
   "outputs": [],
   "source": [
    "water = manRP.fluid.Fluid.from_presets(name=\"Water\", temperature=30, pressure=25)\n",
    "co2 = manRP.fluid.Fluid.from_presets(name=\"CarbonDioxide\", temperature=30, pressure=25)\n",
    "water_co2_mix = manRP.fluid.FluidMix(fluid1=water, fluid2=co2)"
   ]
  },
  {
   "cell_type": "code",
   "execution_count": 70,
   "metadata": {},
   "outputs": [],
   "source": [
    "in_situ = {\"Vp\": 3.8, \"Vs\": 1.8, \"Rho\": 2.5}\n",
    "\n",
    "parameters = {\n",
    "    \"Phi\": 0.2,\n",
    "    \"Km\": 37.5,\n",
    "    \"fluid\": water_co2_mix,\n",
    "    \"permeability\": 1e-12,\n",
    "    \"patch_size\": 0.0001,\n",
    "    \"bubble_radius\": 0.0005,\n",
    "    \"Q_sls\":15,\n",
    "    \"Log_omega_ref\":0,\n",
    "    \"crack_density\": 0.01,\n",
    "    \"aspect_ratio\": 0.000001,\n",
    "    \"eps\": 0.01,\n",
    "    \"tau\": np.log10(1 / 2 / np.pi / 35),\n",
    "}\n",
    "\n",
    "pars = {**in_situ, **parameters}"
   ]
  },
  {
   "cell_type": "code",
   "execution_count": 74,
   "metadata": {},
   "outputs": [],
   "source": [
    "models = {\n",
    "    str(model.__name__).split(\".\")[-1]: {\n",
    "        \"name\": model.Model.name,\n",
    "        \"type\": model.Model.model_type.split(\",\"),\n",
    "    }\n",
    "    for model in manRP.model_factory.ModelsBuild.models\n",
    "}\n",
    "calibrated = {model: manRP.models(identifier=model, **pars) for model in models}"
   ]
  },
  {
   "cell_type": "code",
   "execution_count": 75,
   "metadata": {},
   "outputs": [
    {
     "data": {
      "text/plain": [
       "[(36.1+2.406666666666666j),\n",
       " 36.1,\n",
       " 36.1,\n",
       " 36.1,\n",
       " 36.09999317370644,\n",
       " 36.1,\n",
       " 36.1,\n",
       " (36.1+0j)]"
      ]
     },
     "execution_count": 75,
     "metadata": {},
     "output_type": "execute_result"
    }
   ],
   "source": [
    "[val.Cij()[0,0] for model, val in calibrated.items()]"
   ]
  },
  {
   "cell_type": "code",
   "execution_count": 81,
   "metadata": {},
   "outputs": [],
   "source": [
    "for model in manRP.model_factory.ModelsBuild.models:\n",
    "    if \"frequency-dependent\" in model.Model.model_type.split(\",\"):\n",
    "        print(model.Model.reference) "
   ]
  },
  {
   "cell_type": "code",
   "execution_count": null,
   "metadata": {},
   "outputs": [],
   "source": []
  }
 ],
 "metadata": {
  "kernelspec": {
   "display_name": "mantis-core-examples",
   "language": "python",
   "name": "python3"
  },
  "language_info": {
   "codemirror_mode": {
    "name": "ipython",
    "version": 3
   },
   "file_extension": ".py",
   "mimetype": "text/x-python",
   "name": "python",
   "nbconvert_exporter": "python",
   "pygments_lexer": "ipython3",
   "version": "3.11.7"
  }
 },
 "nbformat": 4,
 "nbformat_minor": 2
}
