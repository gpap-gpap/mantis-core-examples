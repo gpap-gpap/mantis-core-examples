{
 "cells": [
  {
   "cell_type": "code",
   "execution_count": 1,
   "metadata": {},
   "outputs": [],
   "source": [
    "%load_ext autoreload\n",
    "%autoreload 2\n",
    "import numpy as np\n",
    "import mantis_core.rock_physics as manRP\n",
    "import mantis_core.rock_physics.fluid as manFL\n",
    "from mantis_core.rock_physics.fluid_presets import presets as manPResets\n",
    "import numpy as np"
   ]
  },
  {
   "cell_type": "code",
   "execution_count": null,
   "metadata": {},
   "outputs": [],
   "source": [
    "water = manRP.fluid.Fluid.from_presets(name=\"Water\", temperature=30, pressure=25)\n",
    "co2 = manRP.fluid.Fluid.from_presets(name=\"CarbonDioxide\", temperature=30, pressure=25)\n",
    "water_co2_mix = manRP.fluid.FluidMix(fluid1=water, fluid2=co2)"
   ]
  },
  {
   "cell_type": "code",
   "execution_count": null,
   "metadata": {},
   "outputs": [],
   "source": [
    "in_situ = {\"Vp\": 3.8, \"Vs\": 1.8, \"Rho\": 2.5}\n",
    "\n",
    "parameters = {\n",
    "    \"Phi\": 0.2,\n",
    "    \"Km\": 37.5,\n",
    "    \"fluid\": mix1,\n",
    "    \"permeability\": 1e-12,\n",
    "    \"patch_size\": 0.0001,\n",
    "    \"bubble_radius\": 0.0005,\n",
    "    \"eps\": 0.1,\n",
    "    \"tau\": np.log10(1 / 2 / np.pi / 35),\n",
    "}"
   ]
  },
  {
   "cell_type": "code",
   "execution_count": 28,
   "metadata": {},
   "outputs": [
    {
     "data": {
      "text/plain": [
       "'sls'"
      ]
     },
     "execution_count": 28,
     "metadata": {},
     "output_type": "execute_result"
    }
   ],
   "source": [
    "str(manRP.model_factory.ModelsBuild.models[0].__name__).split(\".\")[-1]"
   ]
  },
  {
   "cell_type": "code",
   "execution_count": 39,
   "metadata": {},
   "outputs": [
    {
     "data": {
      "text/plain": [
       "{'sls': {'name': 'Standard Linear Solid model',\n",
       "  'type': 'saturation-independent, frequency-dependent, isotropic',\n",
       "  'reference': \"Ursin, Björn, and Tommy Toverud. 'Comparison of seismic dispersion and attenuation models.' Studia geophysica et geodaetica 46 (2002): 293-320.\"},\n",
       " 'gassmann': {'name': \"Gassmann's model\",\n",
       "  'type': 'saturation-dependent, frequency-independent, isotropic',\n",
       "  'reference': \"\\n        - Gassmann, F. (1951). \\n            'Uber die Elastizitat poroser Medien.'\\n            Vierteljahrsschrift der Naturforschenden Gesellschaft in Zurich, 96, 1-23.\\n        \\n        also see:\\n        \\n        - Berryman, James G. \\n            'Origin of Gassmann's equations.' \\n            Geophysics 64.5 (1999): 1627-1629.\\n    \"},\n",
       " 'crm1d': {'name': 'Continuous 1-D Random Medium Model',\n",
       "  'type': 'saturation-dependent, frequency-dependent, isotropic',\n",
       "  'reference': '\\n    Caspari, Eva, T. M. Müller, and Boris Gurevich.\\n    `Time-lapse sonic logs reveal patchy CO2 saturation in‐situ.`\\n    Geophysical Research Letters 38.13 (2011).\\n    '},\n",
       " 'crm3d': {'name': 'Continuous 3-D Random Medium Model',\n",
       "  'type': 'saturation-dependent, frequency-dependent, isotropic',\n",
       "  'reference': '\\n    Caspari, Eva, T. M. Müller, and Boris Gurevich.\\n    `Time‐lapse sonic logs reveal patchy CO2 saturation in‐situ.`\\n    Geophysical Research Letters 38.13 (2011).\\n    '},\n",
       " 'hudson': {'name': \"Hudson's model\",\n",
       "  'type': 'saturation-dependent, frequency-independent, anisotropic',\n",
       "  'reference': '\\n    Hudson, John A. \\n    \"Wave speeds and attenuation of elastic waves \\n    in material containing cracks.\" \\n    Geophysical Journal International 64.1 (1981): 133-150.\\n\\n    '},\n",
       " 'white': {'name': 'White Model',\n",
       "  'type': 'saturation-dependent, frequency-dependent, isotropic',\n",
       "  'reference': '\\n    original reference:\\n    White, J. E. \"Computed seismic speeds and attenuation in rocks with partial gas saturation.\" Geophysics 40.2 (1975): 224-232.\\n    Dutta-Seriff corrections:\\n    Dutta, N. C., and A. J. Seriff. \"On White’s model of attenuation in rocks with partial gas saturation.\" Geophysics 44.11 (1979): 1806-1812.\\n    '},\n",
       " 'generic': {'name': 'Generic Rock Physics Model',\n",
       "  'type': 'saturation-independent, frequency-independent, isotropic',\n",
       "  'reference': '\\n    placeholder (identity) model\\n    '},\n",
       " 'chapman': {'name': \"Chapman's Model\",\n",
       "  'type': 'saturation-dependent, frequency-dependent, anisotropic',\n",
       "  'reference': '\\n    - anisotropic model: \\n        Chapman, Mark. \"Frequency-dependent anisotropy \\n        due to meso-scale fractures in the presence of \\n        equant porosity.\" \\n        Geophysical prospecting 51.5 (2003): 369-379.\\n    - calibration discussion: \\n        Maultzsch, Sonja, et al. \"Modelling \\n        frequency-dependent seismic anisotropy in \\n        fluid-saturated rock with aligned fractures: \\n        implication of fracture size estimation from \\n        anisotropic measurements.\" \\n        Geophysical Prospecting 51.5 (2003): 381-392.\\n    - partial saturation extension: \\n        Papageorgiou, Giorgos, and Mark Chapman. \\n        \"Wave-propagation in rocks saturated by two \\n        immiscible fluids.\" \\n        Geophysical Journal International 209.3 (2017): 1761-1767.\\n    - anisotropic, partial saturation extension: \\n        Jin, Zhaoyu, Mark Chapman, and Giorgos Papageorgiou. \\n        \"Frequency-dependent anisotropy in a partially \\n        saturated fractured rock.\" \\n        Geophysical Journal International 215.3 (2018): 1985-1998.\\n    '}}"
      ]
     },
     "execution_count": 39,
     "metadata": {},
     "output_type": "execute_result"
    }
   ],
   "source": [
    "{\n",
    "    str(model.__name__).split(\".\")[-1]: {\n",
    "        \"name\": model.Model.name,\n",
    "        \"type\": model.Model.model_type,\n",
    "        \"reference\": f\"{model.Model.reference}\",\n",
    "    }\n",
    "    for model in manRP.model_factory.ModelsBuild.models\n",
    "}"
   ]
  },
  {
   "cell_type": "code",
   "execution_count": null,
   "metadata": {},
   "outputs": [],
   "source": [
    "models = []"
   ]
  },
  {
   "cell_type": "code",
   "execution_count": 4,
   "metadata": {},
   "outputs": [],
   "source": [
    "\n",
    "pars = {**in_situ, **parameters}\n",
    "\n",
    "temp_model = manRP.models(identifier=\"white\", **pars)\n",
    "temp_model2 = manRP.models(identifier=\"crm1d\", **pars)\n",
    "temp_model2 = manRP.models(identifier=\"crm3d\", **pars)\n",
    "\n",
    "temp_model4 = manRP.models(identifier=\"gassmann\", **pars)\n",
    "white = manRP.models(identifier=\"white\", **pars)\n",
    "gassmann = manRP.models(identifier=\"gassmann\", **pars)\n",
    "chapman = manRP.models(identifier=\"chapman\", **pars)\n",
    "\n",
    "\n",
    "def mod(s):\n",
    "    mix1.average = \"Brie\"\n",
    "    mix1.patch_q = 0.2\n",
    "    mix1.saturation = s\n",
    "    return temp_model4.Cij()[0, 0]\n",
    "\n",
    "\n",
    "def mod2(s):\n",
    "    mix1.average = \"Papageorgiou\"\n",
    "    mix1.patch_q = 0.2\n",
    "    mix1.saturation = s\n",
    "    return temp_model4.Cij()[0, 0]\n",
    "\n",
    "\n",
    "def mod3(s):\n",
    "    mix1.patch_q = 1\n",
    "    mix1.saturation = s\n",
    "    return temp_model4.Cij()[0, 0]\n",
    "\n",
    "\n",
    "def mod4(s):\n",
    "    mix1.patch_q = 1\n",
    "    mix1.saturation = s\n",
    "    return temp_model.Cij()[0, 0]\n",
    "\n",
    "\n",
    "def mod5(s):\n",
    "    mix1.patch_q = 1\n",
    "    mix1.saturation = s\n",
    "    return temp_model2.Cij()[0, 0]\n",
    "\n",
    "\n",
    "def P_mods_by_saturation(s):\n",
    "    mix1.saturation = s\n",
    "    mix1.patch_q = 1\n",
    "    gw_result = gassmann.Cij()[0, 0]\n",
    "    mix1.average = \"Brie\"\n",
    "    mix1.patch_q = 0.2\n",
    "    brie = gassmann.Cij()[0, 0]\n",
    "    mix1.average = \"Papageorgiou\"\n",
    "    papa = gassmann.Cij()[0, 0]\n",
    "    casp = caspari.Cij()[0, 0]\n",
    "    whit = white.Cij()[0, 0]\n",
    "    return [gw_result, brie, papa, casp, whit]\n",
    "\n",
    "\n",
    "def P_attenuation_by_saturation(s):\n",
    "    mix1.saturation = s\n",
    "    mix1.patch_q = 1\n",
    "    lam = lambda x: np.imag(x) / np.real(x)\n",
    "    gw_result = lam(gassmann.Cij()[0, 0])\n",
    "    mix1.average = \"Brie\"\n",
    "    mix1.patch_q = 0.2\n",
    "    brie = lam(gassmann.Cij()[0, 0])\n",
    "    mix1.average = \"Papageorgiou\"\n",
    "    chapman.eps = 0.005\n",
    "    papa = lam(chapman.Cij(omega=-1)[0, 0])\n",
    "    casp = -lam(caspari.Cij()[0, 0])\n",
    "    whit = lam(white.Cij()[0, 0])\n",
    "    return [brie, papa, casp, whit]\n",
    "\n",
    "\n",
    "def P_mods_by_frequency(o):\n",
    "    mix1.saturation = 0.75\n",
    "    mix1.patch_q = 1\n",
    "    lam = lambda x: np.imag(x) / np.real(x)\n",
    "    gw_result = lam(gassmann.Cij()[0, 0])\n",
    "    mix1.average = \"Brie\"\n",
    "    mix1.patch_q = 0.2\n",
    "    brie = gassmann.Cij()[0, 0]\n",
    "    mix1.average = \"Papageorgiou\"\n",
    "    chapman.eps = 0.005\n",
    "    papa = chapman.Cij(omega=o - 1)[0, 0]\n",
    "    casp = caspari.Cij(omega=o)[0, 0]\n",
    "    whit = white.Cij(omega=o)[0, 0]\n",
    "    return [brie, papa, casp, whit]\n",
    "\n",
    "\n",
    "headers = [\n",
    "    \"Gassmann-Wood (1970)\",\n",
    "    \"Brie et al. (1995)\",\n",
    "    \"Papageorgiou et al. (2016)\",\n",
    "    \"Caspari et al. (2011)\",\n",
    "    \"White (1975)\",\n",
    "]\n",
    "att_headers = [\n",
    "    \"Gassmann-Wood, Brie etc.\",\n",
    "    \"Papageorgiou et al. (2016)\",\n",
    "    \"Caspari et al. (2011)\",\n",
    "    \"White (1975)\",\n",
    "]"
   ]
  },
  {
   "cell_type": "code",
   "execution_count": null,
   "metadata": {},
   "outputs": [],
   "source": []
  }
 ],
 "metadata": {
  "kernelspec": {
   "display_name": "mantis-core-examples",
   "language": "python",
   "name": "python3"
  },
  "language_info": {
   "codemirror_mode": {
    "name": "ipython",
    "version": 3
   },
   "file_extension": ".py",
   "mimetype": "text/x-python",
   "name": "python",
   "nbconvert_exporter": "python",
   "pygments_lexer": "ipython3",
   "version": "3.11.7"
  }
 },
 "nbformat": 4,
 "nbformat_minor": 2
}
