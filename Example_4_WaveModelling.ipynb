{
 "cells": [
  {
   "cell_type": "code",
   "execution_count": 6,
   "metadata": {},
   "outputs": [
    {
     "name": "stdout",
     "output_type": "stream",
     "text": [
      "The autoreload extension is already loaded. To reload it, use:\n",
      "  %reload_ext autoreload\n"
     ]
    }
   ],
   "source": [
    "%load_ext autoreload\n",
    "%autoreload 2\n",
    "import mantis_core.rock_physics as manRP\n",
    "import mantis_core.rock_physics.fluid as manFL\n",
    "import mantis_core.utilities as manUtil\n",
    "from mantis_core.rock_physics.fluid_presets import presets as manPResets\n",
    "import mantis_wave_modelling.model_building as manMB\n",
    "import mantis_wave_modelling.wave_modelling as manWM\n",
    "import mantis_wave_modelling.wavelet as manWLET\n",
    "import numpy as np"
   ]
  },
  {
   "cell_type": "code",
   "execution_count": 5,
   "metadata": {},
   "outputs": [],
   "source": [
    "tst = manMB.IsotropicHalfspace(Vp=3.4, Vs=1.5, Rho=1.5)"
   ]
  },
  {
   "cell_type": "code",
   "execution_count": 10,
   "metadata": {},
   "outputs": [],
   "source": [
    "current_wavelet = manWLET.wavelet(identifier=\"ricker\", central_frequency=25)\n",
    "\n",
    "rho = 2.55\n",
    "cij = manUtil.VtoCij(Vp=3.5, Vs=1.7, Rho=rho)\n",
    "rho2 = 2.6\n",
    "cij2 = manUtil.VtoCij(Vp=5.0, Vs=2.8, Rho=rho2)\n",
    "cij_array = np.array([cij, cij2])\n",
    "rho_array = np.array([rho, rho2])\n",
    "toplayer = manMB.IsotropicHalfspace.from_preset(preset=\"Water\")\n",
    "botlayer = manMB.IsotropicHalfspace.from_preset(preset=\"Soft-bottom\")\n",
    "reflection_zone = manMB.ReflectionZone(Cij_array=cij_array, Rho_array=rho_array)\n",
    "model = manMB.EarthModel(\n",
    "    top_halfspace=toplayer,\n",
    "    bottom_halfspace=botlayer,\n",
    "    reflection_zone=reflection_zone,\n",
    "    depth_array=np.array([0.5, 0.1, 0.05, 0.4]),\n",
    ")\n",
    "sg = manWM.ShotGather(\n",
    "    earth_model=model,\n",
    "    wavelet=current_wavelet,\n",
    "    receiver_coordinates=np.array([0.0, 0.0, 0.0]),\n",
    "    nSamples=2**11,\n",
    "    dt=1 / 1000.0,\n",
    ")\n",
    "t1, t2 = sg.convolutional_avo(angle=0)\n",
    "rr2 = np.array(\n",
    "    [sg.wavefield(horizontal_slowness=[i, 0.001]) for i in np.linspace(0.0, 0.2, 40)]\n",
    ")"
   ]
  },
  {
   "cell_type": "code",
   "execution_count": null,
   "metadata": {},
   "outputs": [],
   "source": []
  }
 ],
 "metadata": {
  "kernelspec": {
   "display_name": "mantis-core-examples",
   "language": "python",
   "name": "python3"
  },
  "language_info": {
   "codemirror_mode": {
    "name": "ipython",
    "version": 3
   },
   "file_extension": ".py",
   "mimetype": "text/x-python",
   "name": "python",
   "nbconvert_exporter": "python",
   "pygments_lexer": "ipython3",
   "version": "3.11.7"
  }
 },
 "nbformat": 4,
 "nbformat_minor": 2
}
