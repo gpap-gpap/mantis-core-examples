{
 "cells": [
  {
   "cell_type": "markdown",
   "metadata": {},
   "source": [
    "# <font color='#30a54f'>**mantis**</font>  <font color='black'>**geophysics**</font>\n",
    "An Edinburgh University spinout - contact: gpap@mantis-geophysics.com\n",
    "### Author: G. Papageorgiou\n",
    "Utilities - In this notebook we showcase the palette of utilities for various purposes in the mantis codebase."
   ]
  },
  {
   "cell_type": "code",
   "execution_count": 1,
   "metadata": {},
   "outputs": [],
   "source": [
    "%load_ext autoreload\n",
    "%autoreload 2\n",
    "import numpy as np\n",
    "import mantis_core.utilities as manUT\n",
    "import mantis_core._literature as manLit\n"
   ]
  },
  {
   "cell_type": "markdown",
   "metadata": {},
   "source": [
    "First we generate cijs with different symmetries. There is no rock physics modelling taking place here, we just read values for elastic tensors from the literature"
   ]
  },
  {
   "cell_type": "code",
   "execution_count": 2,
   "metadata": {},
   "outputs": [],
   "source": [
    "background = {\"Vp\":3.4, \"Vs\":1.8, \"Rho\":2.6}\n",
    "isocij = manUT.VtoCij(**background) # a simple isotropic Cij with elements calculated from Vp, Vs, Rho\n",
    "ticij = manUT.thomsen_vti(**background, epsilon = 0.1, delta = 0.1, gamma = 0.1) # as above, but with Thomsen VTI anisotropy\n",
    "tiltedTIcij = manUT.tilt_rotation(ticij, theta = np.pi/8.) # as above, but rotated by pi/8 along the y-axis\n",
    "HTIcij = manUT.tilt_rotation(\n",
    "    ticij, theta=np.pi / 2\n",
    ")  # HTI\n",
    "ortcij = manLit.Examples.presets[\"Jin & Stovas, gji-2021\"][\"medium-1\"][\"Cij\"] # a simple orthorhombic Cij from Jin & Stovas, gji-2021\n",
    "tiltcij = manLit.Examples.presets[\"Generic testing\"][\"medium-1\"][\"Cij\"] # a simple tilted orthorhombic Cij from Jin & Stovas, gji-2021\n",
    "monTilted = ortcij + tiltedTIcij # adding the tilted ti to the orthorhombic we get a tilted orthorhombic\n",
    "mono = ortcij + manUT.interchange_y_and_z(\n",
    "    tiltedTIcij\n",
    ")  # changing the tilt to be in the x-z plane instead of the x-y plane so that we get an U/D symmetry"
   ]
  },
  {
   "cell_type": "markdown",
   "metadata": {},
   "source": [
    "A convenient utility checks the symmetry of the elastic tensors:"
   ]
  },
  {
   "cell_type": "code",
   "execution_count": 3,
   "metadata": {},
   "outputs": [
    {
     "data": {
      "text/plain": [
       "array([[35.14, 15.88, 16.08,  0.  ,  1.11,  0.  ],\n",
       "       [15.88, 36.07, 16.  ,  0.  , -0.06,  0.  ],\n",
       "       [16.08, 16.  , 30.89,  0.  ,  1.01,  0.  ],\n",
       "       [ 0.  ,  0.  ,  0.  ,  8.67,  0.  ,  0.6 ],\n",
       "       [ 1.11, -0.06,  1.01,  0.  ,  8.47,  0.  ],\n",
       "       [ 0.  ,  0.  ,  0.  ,  0.6 ,  0.  ,  9.86]])"
      ]
     },
     "execution_count": 3,
     "metadata": {},
     "output_type": "execute_result"
    }
   ],
   "source": [
    "Cij = np.array(\n",
    "    [\n",
    "        [36.07, 15.85, 16.03, 0.0, 0.0, 0.0],\n",
    "        [15.85, 36.07, 16.03, 0.0, 0.0, 0.0],\n",
    "        [16.03, 16.03, 30.06, 0.0, 0.0, 0.0],\n",
    "        [0.0, 0.0, 0.0, 8.42, 0.0, 0.0],\n",
    "        [0.0, 0.0, 0.0, 0.0, 8.42, 0.0],\n",
    "        [0.0, 0.0, 0.0, 0.0, 0.0, 10.11],\n",
    "    ]\n",
    ")\n",
    "manUT.tilt_rotation(Cij, theta=np.pi / 8.0).round(2)"
   ]
  },
  {
   "cell_type": "code",
   "execution_count": 4,
   "metadata": {},
   "outputs": [
    {
     "data": {
      "text/plain": [
       "('U/D-symmetric', 'Transversely Isotropic')"
      ]
     },
     "execution_count": 4,
     "metadata": {},
     "output_type": "execute_result"
    }
   ],
   "source": [
    "manUT.check_symmetry(Cij, 5)"
   ]
  },
  {
   "cell_type": "code",
   "execution_count": 5,
   "metadata": {},
   "outputs": [
    {
     "name": "stdout",
     "output_type": "stream",
     "text": [
      "('U/D-symmetric', 'Isotropic')\n",
      "('U/D-symmetric', 'Transversely Isotropic')\n",
      "('Tilted', 'Transversely Isotropic')\n",
      "('U/D-symmetric', 'Transversely Isotropic')\n",
      "('U/D-symmetric', 'Orthorhombic')\n",
      "('Tilted', 'Orthorhombic')\n",
      "('U/D-symmetric', 'Monoclinic')\n",
      "('Tilted', 'Monoclinic')\n"
     ]
    }
   ],
   "source": [
    "for cij in [isocij, ticij, tiltedTIcij, HTIcij, ortcij, tiltcij, mono, monTilted]:\n",
    "    print(manUT.check_symmetry(cij, 5))"
   ]
  },
  {
   "cell_type": "markdown",
   "metadata": {},
   "source": [
    "This works with any elastic tensor in the form of a 6x6 matrix."
   ]
  },
  {
   "cell_type": "code",
   "execution_count": 6,
   "metadata": {},
   "outputs": [
    {
     "data": {
      "text/plain": [
       "('Tilted', 'Triclinic')"
      ]
     },
     "execution_count": 6,
     "metadata": {},
     "output_type": "execute_result"
    }
   ],
   "source": [
    "import numpy as np\n",
    "random_matrix = 50*np.random.random(size=(6,6))\n",
    "random_cij = (random_matrix + random_matrix.T) / 2\n",
    "manUT.check_symmetry(random_cij) # would be triclinic and tilted (whatever that means!)"
   ]
  },
  {
   "cell_type": "markdown",
   "metadata": {},
   "source": [
    "Finally, we have isotropic and anisotropic conversions of incidence angles to slowness and back"
   ]
  },
  {
   "cell_type": "code",
   "execution_count": 7,
   "metadata": {},
   "outputs": [
    {
     "name": "stdout",
     "output_type": "stream",
     "text": [
      "\u001b[0;31mSignature:\u001b[0m \u001b[0mmanUT\u001b[0m\u001b[0;34m.\u001b[0m\u001b[0mincidence_angle_to_slowness\u001b[0m\u001b[0;34m(\u001b[0m\u001b[0mincidence_angle\u001b[0m\u001b[0;34m=\u001b[0m\u001b[0;36m0.0\u001b[0m\u001b[0;34m,\u001b[0m \u001b[0mVp\u001b[0m\u001b[0;34m:\u001b[0m \u001b[0;34m'float'\u001b[0m \u001b[0;34m=\u001b[0m \u001b[0;32mNone\u001b[0m\u001b[0;34m)\u001b[0m\u001b[0;34m\u001b[0m\u001b[0;34m\u001b[0m\u001b[0m\n",
      "\u001b[0;31mDocstring:\u001b[0m\n",
      "Convert incidence angle to slowness.\n",
      "\n",
      "Parameters\n",
      "----------\n",
      "incidence_angle : float, optional\n",
      "    The incidence angle in radians. Default is 0.0.\n",
      "Vp : float, optional\n",
      "    The P-wave velocity. Default is None.\n",
      "\n",
      "Returns\n",
      "-------\n",
      "slowness : float\n",
      "    The slowness corresponding to the given incidence angle in an isotropic medium with P-wave velocity `Vp`.\n",
      "\n",
      "Notes\n",
      "-----\n",
      "The slowness is calculated by the formula:\n",
      "\n",
      "$$\n",
      "s = \\frac{\\sin(\\theta)}{V_p}\n",
      "$$\n",
      "\u001b[0;31mFile:\u001b[0m      ~/Documents/projects/mantis-core/src/mantis_core/utilities.py\n",
      "\u001b[0;31mType:\u001b[0m      function"
     ]
    }
   ],
   "source": [
    "?manUT.incidence_angle_to_slowness"
   ]
  },
  {
   "cell_type": "code",
   "execution_count": 8,
   "metadata": {},
   "outputs": [
    {
     "name": "stdout",
     "output_type": "stream",
     "text": [
      "\u001b[0;31mSignature:\u001b[0m \u001b[0mmanUT\u001b[0m\u001b[0;34m.\u001b[0m\u001b[0mslowness_to_incidence_angle\u001b[0m\u001b[0;34m(\u001b[0m\u001b[0mslowness\u001b[0m\u001b[0;34m=\u001b[0m\u001b[0;36m0.0\u001b[0m\u001b[0;34m,\u001b[0m \u001b[0mVp\u001b[0m\u001b[0;34m=\u001b[0m\u001b[0;36m1.0\u001b[0m\u001b[0;34m)\u001b[0m \u001b[0;34m->\u001b[0m \u001b[0;34m'float'\u001b[0m\u001b[0;34m\u001b[0m\u001b[0;34m\u001b[0m\u001b[0m\n",
      "\u001b[0;31mDocstring:\u001b[0m\n",
      " Convert slowness to incidence angle.\n",
      "\n",
      " Parameters\n",
      " ----------\n",
      " slowness : float, optional\n",
      "     The slowness value. Defaults to 0.0.\n",
      " Vp : float, optional\n",
      "     The P-wave velocity. Defaults to 1.0.\n",
      "\n",
      " Returns\n",
      " -------\n",
      " float\n",
      "     The incidence angle in radians.\n",
      "\n",
      " Notes\n",
      " -----\n",
      " The incidence angle is calculated by the formula:\n",
      "\n",
      "$$\n",
      "\\theta = \\arcsin(s V_p)\n",
      "$$\n",
      "\u001b[0;31mFile:\u001b[0m      ~/Documents/projects/mantis-core/src/mantis_core/utilities.py\n",
      "\u001b[0;31mType:\u001b[0m      function"
     ]
    }
   ],
   "source": [
    "?manUT.slowness_to_incidence_angle"
   ]
  }
 ],
 "metadata": {
  "kernelspec": {
   "display_name": "mantis-core-examples",
   "language": "python",
   "name": "python3"
  },
  "language_info": {
   "codemirror_mode": {
    "name": "ipython",
    "version": 3
   },
   "file_extension": ".py",
   "mimetype": "text/x-python",
   "name": "python",
   "nbconvert_exporter": "python",
   "pygments_lexer": "ipython3",
   "version": "3.11.7"
  }
 },
 "nbformat": 4,
 "nbformat_minor": 2
}
