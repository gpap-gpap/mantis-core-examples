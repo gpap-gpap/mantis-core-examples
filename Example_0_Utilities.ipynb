{
 "cells": [
  {
   "cell_type": "markdown",
   "metadata": {},
   "source": [
    "# Mantis Utilities\n",
    "### Author: G. Papageorgiou\n",
    "In this notebook we showcase the palette of utilities for various purposes in the mantis codebase."
   ]
  },
  {
   "cell_type": "code",
   "execution_count": 7,
   "metadata": {},
   "outputs": [
    {
     "name": "stdout",
     "output_type": "stream",
     "text": [
      "The autoreload extension is already loaded. To reload it, use:\n",
      "  %reload_ext autoreload\n"
     ]
    }
   ],
   "source": [
    "%load_ext autoreload\n",
    "%autoreload 2\n",
    "import mantis_core.utilities as manUT\n",
    "import mantis_core._literature as manLit"
   ]
  },
  {
   "cell_type": "markdown",
   "metadata": {},
   "source": [
    "First we generate Voigt cijs with given symmetries. There is no rock physics modelling taking place here."
   ]
  },
  {
   "cell_type": "code",
   "execution_count": 13,
   "metadata": {},
   "outputs": [],
   "source": [
    "background = {\"Vp\":3.4, \"Vs\":1.8, \"Rho\":2.6}\n",
    "isocij = manUT.VtoCij(**background)\n",
    "ticij = manUT.thomsen_vti(**background, epsilon = 0.1, delta = 0.1, gamma = 0.1)\n",
    "ortcij = manLit.Examples.presets[\"Jin & Stovas, gji-2021\"][\"medium-1\"][\"Cij\"]\n",
    "tiltcij = manLit.Examples.presets[\"Generic testing\"][\"medium-1\"][\"Cij\"]"
   ]
  },
  {
   "cell_type": "markdown",
   "metadata": {},
   "source": [
    "A convenient utility checks the symmetry of the elastic tensors:"
   ]
  },
  {
   "cell_type": "code",
   "execution_count": 14,
   "metadata": {},
   "outputs": [
    {
     "name": "stdout",
     "output_type": "stream",
     "text": [
      "('U/D-symmetric', 'Isotropic')\n",
      "('U/D-symmetric', 'Transversely Isotropic')\n",
      "('U/D-symmetric', 'Orthorhombic')\n",
      "('Tilted', 'Orthorhombic')\n"
     ]
    }
   ],
   "source": [
    "for cij in [isocij, ticij, ortcij, moncij]:\n",
    "    print(manUT.check_symmetry(cij))"
   ]
  },
  {
   "cell_type": "markdown",
   "metadata": {},
   "source": [
    "We also have a convenient set of implementation of Bond rotation matrices for generating HTI and TTI media from VTI media."
   ]
  },
  {
   "cell_type": "code",
   "execution_count": null,
   "metadata": {},
   "outputs": [],
   "source": [
    "manUT.azimuthal_rotation(), manUT.interchange_y_and_z(), manUT.tilt_rotation()"
   ]
  },
  {
   "cell_type": "markdown",
   "metadata": {},
   "source": [
    "Finally, we have isotropic and anisotropic conversions of incidence angles to slowness and back"
   ]
  },
  {
   "cell_type": "code",
   "execution_count": 17,
   "metadata": {},
   "outputs": [
    {
     "name": "stdout",
     "output_type": "stream",
     "text": [
      "\u001b[0;31mSignature:\u001b[0m \u001b[0mmanUT\u001b[0m\u001b[0;34m.\u001b[0m\u001b[0mincidence_angle_to_slowness\u001b[0m\u001b[0;34m(\u001b[0m\u001b[0mincidence_angle\u001b[0m\u001b[0;34m=\u001b[0m\u001b[0;36m0.0\u001b[0m\u001b[0;34m,\u001b[0m \u001b[0mvp\u001b[0m\u001b[0;34m:\u001b[0m \u001b[0;34m'float'\u001b[0m \u001b[0;34m=\u001b[0m \u001b[0;32mNone\u001b[0m\u001b[0;34m)\u001b[0m\u001b[0;34m\u001b[0m\u001b[0;34m\u001b[0m\u001b[0m\n",
      "\u001b[0;31mDocstring:\u001b[0m <no docstring>\n",
      "\u001b[0;31mFile:\u001b[0m      ~/Documents/projects/mantis-core/src/mantis_core/utilities.py\n",
      "\u001b[0;31mType:\u001b[0m      function"
     ]
    }
   ],
   "source": [
    "?manUT.incidence_angle_to_slowness"
   ]
  },
  {
   "cell_type": "code",
   "execution_count": 18,
   "metadata": {},
   "outputs": [
    {
     "name": "stdout",
     "output_type": "stream",
     "text": [
      "\u001b[0;31mSignature:\u001b[0m \u001b[0mmanUT\u001b[0m\u001b[0;34m.\u001b[0m\u001b[0mslowness_to_incidence_angle\u001b[0m\u001b[0;34m(\u001b[0m\u001b[0mslowness\u001b[0m\u001b[0;34m=\u001b[0m\u001b[0;36m0.0\u001b[0m\u001b[0;34m,\u001b[0m \u001b[0mvp\u001b[0m\u001b[0;34m=\u001b[0m\u001b[0;36m1.0\u001b[0m\u001b[0;34m)\u001b[0m \u001b[0;34m->\u001b[0m \u001b[0;34m'float'\u001b[0m\u001b[0;34m\u001b[0m\u001b[0;34m\u001b[0m\u001b[0m\n",
      "\u001b[0;31mDocstring:\u001b[0m\n",
      "slowness_to_incidence_angle _summary_\n",
      "\n",
      "_extended_summary_\n",
      "\n",
      "Args:\n",
      "    slowness (float, optional): _description_. Defaults to 0.0.\n",
      "    vp (float, optional): _description_. Defaults to 1.0.\n",
      "\n",
      "Returns:\n",
      "    float: _description_\n",
      "\u001b[0;31mFile:\u001b[0m      ~/Documents/projects/mantis-core/src/mantis_core/utilities.py\n",
      "\u001b[0;31mType:\u001b[0m      function"
     ]
    }
   ],
   "source": [
    "?manUT.slowness_to_incidence_angle"
   ]
  }
 ],
 "metadata": {
  "kernelspec": {
   "display_name": "mantis-core-examples",
   "language": "python",
   "name": "python3"
  },
  "language_info": {
   "codemirror_mode": {
    "name": "ipython",
    "version": 3
   },
   "file_extension": ".py",
   "mimetype": "text/x-python",
   "name": "python",
   "nbconvert_exporter": "python",
   "pygments_lexer": "ipython3",
   "version": "3.11.7"
  }
 },
 "nbformat": 4,
 "nbformat_minor": 2
}
