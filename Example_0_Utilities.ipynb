{
 "cells": [
  {
   "cell_type": "markdown",
   "metadata": {},
   "source": [
    "# Mantis Utilities\n",
    "### Author: G. Papageorgiou\n",
    "In this notebook we showcase the palette of utilities for various purposes in the mantis codebase."
   ]
  },
  {
   "cell_type": "code",
   "execution_count": 1,
   "metadata": {},
   "outputs": [],
   "source": [
    "%load_ext autoreload\n",
    "%autoreload 2\n",
    "import numpy as np\n",
    "import mantis_core.utilities as manUT\n",
    "import mantis_core._literature as manLit"
   ]
  },
  {
   "cell_type": "markdown",
   "metadata": {},
   "source": [
    "First we generate cijs with different symmetries. There is no rock physics modelling taking place here, we just read values for elastic tensors from the literature"
   ]
  },
  {
   "cell_type": "code",
   "execution_count": 2,
   "metadata": {},
   "outputs": [],
   "source": [
    "background = {\"Vp\":3.4, \"Vs\":1.8, \"Rho\":2.6}\n",
    "isocij = manUT.VtoCij(**background) # a simple isotropic Cij with elements calculated from Vp, Vs, Rho\n",
    "ticij = manUT.thomsen_vti(**background, epsilon = 0.1, delta = 0.1, gamma = 0.1) # as above, but with Thomsen VTI anisotropy\n",
    "tiltedTIcij = manUT.tilt_rotation(ticij, theta = np.pi/8.) # as above, but rotated by pi/8 along the y-axis\n",
    "ortcij = manLit.Examples.presets[\"Jin & Stovas, gji-2021\"][\"medium-1\"][\"Cij\"] # a simple orthorhombic Cij from Jin & Stovas, gji-2021\n",
    "tiltcij = manLit.Examples.presets[\"Generic testing\"][\"medium-1\"][\"Cij\"] # a simple tilted orthorhombic Cij from Jin & Stovas, gji-2021\n",
    "monTilted = ortcij + tiltedTIcij # adding the tilted ti to the orthorhombic we get a tilted orthorhombic\n",
    "mono = ortcij + manUT.interchange_y_and_z(\n",
    "    tiltedTIcij\n",
    ")  # changing the tilt to be in the x-z plane instead of the x-y plane so that we get an U/D symmetry"
   ]
  },
  {
   "cell_type": "markdown",
   "metadata": {},
   "source": [
    "A convenient utility checks the symmetry of the elastic tensors:"
   ]
  },
  {
   "cell_type": "code",
   "execution_count": 3,
   "metadata": {},
   "outputs": [
    {
     "name": "stdout",
     "output_type": "stream",
     "text": [
      "('U/D-symmetric', 'Isotropic')\n",
      "('U/D-symmetric', 'Transversely Isotropic')\n",
      "('Tilted', 'Transversely Isotropic')\n",
      "('U/D-symmetric', 'Orthorhombic')\n",
      "('Tilted', 'Orthorhombic')\n",
      "('U/D-symmetric', 'Monoclinic')\n",
      "('Tilted', 'Monoclinic')\n"
     ]
    }
   ],
   "source": [
    "for cij in [isocij, ticij,tiltedTIcij, ortcij, tiltcij, mono, monTilted]:\n",
    "    print(manUT.check_symmetry(cij, 5))"
   ]
  },
  {
   "cell_type": "markdown",
   "metadata": {},
   "source": [
    "This works with any elastic tensor in the form of a 6x6 matrix."
   ]
  },
  {
   "cell_type": "code",
   "execution_count": 4,
   "metadata": {},
   "outputs": [
    {
     "data": {
      "text/plain": [
       "('Tilted', 'Triclinic')"
      ]
     },
     "execution_count": 4,
     "metadata": {},
     "output_type": "execute_result"
    }
   ],
   "source": [
    "import numpy as np\n",
    "random_matrix = 50*np.random.random(size=(6,6))\n",
    "random_cij = (random_matrix + random_matrix.T) / 2\n",
    "manUT.check_symmetry(random_cij) # would be triclinic and tilted (whatever that means!)"
   ]
  },
  {
   "cell_type": "markdown",
   "metadata": {},
   "source": [
    "Finally, we have isotropic and anisotropic conversions of incidence angles to slowness and back"
   ]
  },
  {
   "cell_type": "code",
   "execution_count": 5,
   "metadata": {},
   "outputs": [
    {
     "name": "stdout",
     "output_type": "stream",
     "text": [
      "\u001b[0;31mSignature:\u001b[0m \u001b[0mmanUT\u001b[0m\u001b[0;34m.\u001b[0m\u001b[0mincidence_angle_to_slowness\u001b[0m\u001b[0;34m(\u001b[0m\u001b[0mincidence_angle\u001b[0m\u001b[0;34m=\u001b[0m\u001b[0;36m0.0\u001b[0m\u001b[0;34m,\u001b[0m \u001b[0mVp\u001b[0m\u001b[0;34m:\u001b[0m \u001b[0;34m'float'\u001b[0m \u001b[0;34m=\u001b[0m \u001b[0;32mNone\u001b[0m\u001b[0;34m)\u001b[0m\u001b[0;34m\u001b[0m\u001b[0;34m\u001b[0m\u001b[0m\n",
      "\u001b[0;31mDocstring:\u001b[0m <no docstring>\n",
      "\u001b[0;31mFile:\u001b[0m      ~/Documents/projects/mantis-core/src/mantis_core/utilities.py\n",
      "\u001b[0;31mType:\u001b[0m      function"
     ]
    }
   ],
   "source": [
    "?manUT.incidence_angle_to_slowness"
   ]
  },
  {
   "cell_type": "code",
   "execution_count": 6,
   "metadata": {},
   "outputs": [
    {
     "name": "stdout",
     "output_type": "stream",
     "text": [
      "\u001b[0;31mSignature:\u001b[0m \u001b[0mmanUT\u001b[0m\u001b[0;34m.\u001b[0m\u001b[0mslowness_to_incidence_angle\u001b[0m\u001b[0;34m(\u001b[0m\u001b[0mslowness\u001b[0m\u001b[0;34m=\u001b[0m\u001b[0;36m0.0\u001b[0m\u001b[0;34m,\u001b[0m \u001b[0mVp\u001b[0m\u001b[0;34m=\u001b[0m\u001b[0;36m1.0\u001b[0m\u001b[0;34m)\u001b[0m \u001b[0;34m->\u001b[0m \u001b[0;34m'float'\u001b[0m\u001b[0;34m\u001b[0m\u001b[0;34m\u001b[0m\u001b[0m\n",
      "\u001b[0;31mDocstring:\u001b[0m\n",
      "slowness_to_incidence_angle _summary_\n",
      "\n",
      "_extended_summary_\n",
      "\n",
      "Args:\n",
      "    slowness (float, optional): _description_. Defaults to 0.0.\n",
      "    vp (float, optional): _description_. Defaults to 1.0.\n",
      "\n",
      "Returns:\n",
      "    float: _description_\n",
      "\u001b[0;31mFile:\u001b[0m      ~/Documents/projects/mantis-core/src/mantis_core/utilities.py\n",
      "\u001b[0;31mType:\u001b[0m      function"
     ]
    }
   ],
   "source": [
    "?manUT.slowness_to_incidence_angle"
   ]
  }
 ],
 "metadata": {
  "kernelspec": {
   "display_name": "mantis-core-examples",
   "language": "python",
   "name": "python3"
  },
  "language_info": {
   "codemirror_mode": {
    "name": "ipython",
    "version": 3
   },
   "file_extension": ".py",
   "mimetype": "text/x-python",
   "name": "python",
   "nbconvert_exporter": "python",
   "pygments_lexer": "ipython3",
   "version": "3.11.7"
  }
 },
 "nbformat": 4,
 "nbformat_minor": 2
}
